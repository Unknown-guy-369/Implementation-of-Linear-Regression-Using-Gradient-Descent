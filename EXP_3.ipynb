{
 "cells": [
  {
   "cell_type": "code",
   "execution_count": null,
   "id": "a385c14d-4ab6-4ecb-8630-dd18cbc39fce",
   "metadata": {},
   "outputs": [],
   "source": [
    "#Developed by : Abishek Priyan M",
    "#Reg.no: 212224240004",
    "import numpy as np\n",
    "import pandas as pd\n",
    "from sklearn.preprocessing import StandardScaler\n",
    "def linear_regression(X1,y,learning_rate=0.01,num_iters=1000):\n",
    "    X=np.c_[np.ones(len(X1)),X1]\n",
    "    theta=np.zeros(X.shape[1]).reshape(-1,1)\n",
    "    #perform gradient descent\n",
    "    for _ in range(num_iters):\n",
    "        predictions=(X).dot(theta).reshape(-1,1)\n",
    "        #calulate errors\n",
    "        errors=(predictions-y).reshape(-1,1)\n",
    "        #update theta using gradient descent\n",
    "        theta-=learning_rate*(1/len(X1))*X.T.dot(errors)\n",
    "    return theta\n",
    "data=pd.read_csv('50_Startups.csv')\n",
    "print(data.head())\n",
    "\n",
    "#Assuming the last column is your target value\n",
    "X=(data.iloc[1:,:-2].values)\n",
    "print(X)\n",
    "\n",
    "X1=X.astype(float)\n",
    "scaler=StandardScaler()\n",
    "y=(data.iloc[1:,-1].values).reshape(-1,1)\n",
    "print(y)\n",
    "\n",
    "X1_scaled=scaler.fit_transform(X1)\n",
    "Y1_scaled=scaler.fit_transform(y)\n",
    "print(X1_scaled)\n",
    "print(Y1_scaled)\n",
    "\n",
    "#Learn model parameters\n",
    "theta=linear_regression(X1_scaled,Y1_scaled)\n",
    "\n",
    "#predict taget value for new data point\n",
    "new_data=np.array([165349.2,136897.8,471784.1])\n",
    "new_scaled=scaler.fit_transform(new_data)\n",
    "new_scaled=np.dot(np.append(1,new_scaled),theta)\n",
    "prediction=prediction.reshape(-1,1)\n",
    "pre=scaler.inverse_transform(prediction)\n",
    "print(f\"Predicted value: {pre}\")"
   ]
  }
 ],
 "metadata": {
  "kernelspec": {
   "display_name": "Python [conda env:base] *",
   "language": "python",
   "name": "conda-base-py"
  },
  "language_info": {
   "codemirror_mode": {
    "name": "ipython",
    "version": 3
   },
   "file_extension": ".py",
   "mimetype": "text/x-python",
   "name": "python",
   "nbconvert_exporter": "python",
   "pygments_lexer": "ipython3",
   "version": "3.12.7"
  }
 },
 "nbformat": 4,
 "nbformat_minor": 5
}
